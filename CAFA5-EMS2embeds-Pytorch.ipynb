{
 "cells": [
  {
   "cell_type": "code",
   "execution_count": 1,
   "id": "5a51b0e1-36ba-4794-be48-97bd829369cb",
   "metadata": {
    "tags": []
   },
   "outputs": [],
   "source": [
    "import numpy as np\n",
    "import pandas as pd\n",
    "import torch\n",
    "import matplotlib.pyplot as plt"
   ]
  },
  {
   "cell_type": "code",
   "execution_count": 2,
   "id": "7d36d12a-3155-4233-bf3a-f52db93cbd0e",
   "metadata": {
    "tags": []
   },
   "outputs": [],
   "source": [
    "MAIN_DIR = \"cafa-5-protein-function-prediction/\""
   ]
  },
  {
   "cell_type": "code",
   "execution_count": 3,
   "id": "c52a6422-9f8d-4962-b8d8-04edf8533aa1",
   "metadata": {
    "tags": []
   },
   "outputs": [],
   "source": [
    "class config:\n",
    "    train_seq_path = MAIN_DIR + \"Train/train_sequences.fasta\"\n",
    "    train_labels_path = MAIN_DIR + \"Train/train_terms.tsv\"\n",
    "    test_seq_path = MAIN_DIR + \"Test (Targets)/testsuperset.fasta\"\n",
    "    \n",
    "    num_labels = 500\n",
    "    n_epochs = 5\n",
    "    batch_size = 128\n",
    "    lr = 0.001\n",
    "    \n",
    "    device = torch.device('cuda' if torch.cuda.is_available() else 'cpu')"
   ]
  },
  {
   "cell_type": "code",
   "execution_count": 4,
   "id": "39605c7e-2828-403a-a3fa-b073524b94c8",
   "metadata": {
    "tags": []
   },
   "outputs": [],
   "source": [
    "# Directories for the different embedding vectors : \n",
    "embeds_map = {\n",
    "    \"T5\" : \"t5embeds\",\n",
    "    \"ProtBERT\" : \"protbert-embeddings-for-cafa5\",\n",
    "    \"EMS2\" : \"cafa-5-ems-2-embeddings-numpy\"\n",
    "}\n",
    "\n",
    "# Length of the different embedding vectors :\n",
    "embeds_dim = {\n",
    "    \"T5\" : 1024,\n",
    "    \"ProtBERT\" : 1024,\n",
    "    \"EMS2\" : 1280\n",
    "}"
   ]
  },
  {
   "cell_type": "code",
   "execution_count": 5,
   "id": "a8af790e-5830-4c46-a515-a17e819a55ef",
   "metadata": {
    "tags": []
   },
   "outputs": [],
   "source": [
    "from torch.utils.data import Dataset\n",
    "\n",
    "class ProteinSequenceDataset(Dataset): \n",
    "    def __init__(self, datatype, embeddings_source):   \n",
    "        # 'datatype' specifies whether it's for training or testing data and\n",
    "        # 'embeddings_source' specifies the source of the protein sequence\n",
    "        super(ProteinSequenceDataset).__init__()\n",
    "        self.datatype = datatype\n",
    "        \n",
    "        # load the protein sequence embeddings and their corresponding IDs\n",
    "        if embeddings_source in [\"ProtBERT\", \"EMS2\"]:\n",
    "            embeds = np.load(embeds_map[embeddings_source]+\"/\"+datatype+\"_embeddings.npy\")\n",
    "            ids = np.load(embeds_map[embeddings_source]+\"/\"+datatype+\"_ids.npy\")\n",
    "        \n",
    "        if embeddings_source == \"T5\":\n",
    "            embeds = np.load(embeds_map[embeddings_source]+\"/\"+datatype+\"_embeds.npy\")\n",
    "            ids = np.load(+embeds_map[embeddings_source]+\"/\"+datatype+\"_ids.npy\")\n",
    "            \n",
    "        embeds_list = []\n",
    "        for l in range(embeds.shape[0]):\n",
    "            embeds_list.append(embeds[l,:])\n",
    "        # create a Pandas DataFrame\n",
    "        self.df = pd.DataFrame(data={\"EntryID\": ids, \"embed\" : embeds_list})\n",
    "        \n",
    "        # load labels\n",
    "        if datatype==\"train\":\n",
    "            np_labels = np.load(\n",
    "                \"train-targets-top\"+str(config.num_labels)+ \\\n",
    "                \"/train_targets_top\"+str(config.num_labels)+\".npy\")\n",
    "            df_labels = pd.DataFrame(self.df['EntryID'])\n",
    "            df_labels['labels_vect']=[row for row in np_labels]\n",
    "            self.df = self.df.merge(df_labels, on=\"EntryID\")\n",
    "     \n",
    "    # the length of the dataset\n",
    "    def __len__(self):\n",
    "        return len(self.df)\n",
    "    \n",
    "    # retrieve a sample from the dataset at a given index\n",
    "    def __getitem__(self, index):\n",
    "        embed = torch.tensor(self.df.iloc[index][\"embed\"] , dtype = torch.float32)\n",
    "        if self.datatype==\"train\":\n",
    "            targets = torch.tensor(self.df.iloc[index][\"labels_vect\"], dtype = torch.float32)\n",
    "            return embed, targets\n",
    "        if self.datatype==\"test\":\n",
    "            id = self.df.iloc[index][\"EntryID\"]\n",
    "            return embed, id\n",
    "        "
   ]
  },
  {
   "cell_type": "markdown",
   "id": "03c72afc-6c69-43f3-9dd0-783c8d715f50",
   "metadata": {},
   "source": [
    "## Model Architecture Buillding and Training\n",
    "\n",
    "We want to define a PyTorch neural network model class named MultiLayerPerceptron. This class represents a multi-layer perceptron (MLP) model with three hidden layers."
   ]
  },
  {
   "cell_type": "code",
   "execution_count": 6,
   "id": "3bdc4ff4-c222-4673-b0c2-427c6eb8a8b0",
   "metadata": {
    "tags": []
   },
   "outputs": [],
   "source": [
    "class MultiLayerPerceptron(torch.nn.Module):\n",
    "\n",
    "    def __init__(self, input_dim, num_classes):  \n",
    "        # 'input_dim' defines dimensionality of the input features and\n",
    "        # 'num_classes' number of output classes or units\n",
    "        \n",
    "        super(MultiLayerPerceptron, self).__init__()\n",
    "\n",
    "        self.linear1 = torch.nn.Linear(input_dim, 864)\n",
    "        self.activation1 = torch.nn.ReLU() \n",
    "        self.linear2 = torch.nn.Linear(864, 712)\n",
    "        self.activation2 = torch.nn.ReLU()\n",
    "        self.linear3 = torch.nn.Linear(712, num_classes)\n",
    "      \n",
    "\n",
    "    def forward(self, x):\n",
    "        x = self.linear1(x)\n",
    "        x = self.activation1(x)\n",
    "        x = self.linear2(x)\n",
    "        x = self.activation2(x)\n",
    "        x = self.linear3(x)\n",
    "        return x"
   ]
  },
  {
   "cell_type": "markdown",
   "id": "208d03b7-dfe6-4918-b9e3-ab099c4b05ed",
   "metadata": {},
   "source": [
    "We define `CNN1D` class for processing sequential data, such as protein sequence embeddings.\n",
    "This class defines a PyTorch neural network, representing a 1D Convolutional Neural Network (CNN). "
   ]
  },
  {
   "cell_type": "code",
   "execution_count": 7,
   "id": "d2e60e74-b78d-4690-b49d-8978c1f6473b",
   "metadata": {
    "tags": []
   },
   "outputs": [],
   "source": [
    "class CNN1D(torch.nn.Module):\n",
    "    def __init__(self, input_dim, num_classes):\n",
    "    # # 'input_dim' defines dimensionality of the input features and\n",
    "    # 'num_classes' number of output classes or units  \n",
    "    \n",
    "        super(CNN1D, self).__init__()\n",
    "        # First Convolutional Layer\n",
    "        self.conv1 = torch.nn.Conv1d(in_channels=1, out_channels=3, kernel_size=3, dilation=1, padding=1, stride=1)\n",
    "        self.pool1 = torch.nn.MaxPool1d(kernel_size=2, stride=2)\n",
    "        \n",
    "        # Second Convolutional Layer\n",
    "        self.conv2 = torch.nn.Conv1d(in_channels=3, out_channels=8, kernel_size=3, dilation=1, padding=1, stride=1)\n",
    "        self.pool2 = torch.nn.MaxPool1d(kernel_size=2, stride=2)\n",
    "        \n",
    "        # First Fully Connected Layer\n",
    "        self.fc1 = torch.nn.Linear(in_features=int(8 * input_dim/4), out_features=864)\n",
    "        # Second Fully Connected Layer (Output Layer)\n",
    "        self.fc2 = torch.nn.Linear(in_features=864, out_features=num_classes)\n",
    "\n",
    "    def forward(self, x):\n",
    "        x = x.reshape(x.shape[0], 1, x.shape[1])\n",
    "        x = self.pool1(torch.nn.functional.tanh(self.conv1(x)))\n",
    "        x = self.pool2(torch.nn.functional.tanh(self.conv2(x)))\n",
    "        x = torch.flatten(x, 1)\n",
    "        x = torch.nn.functional.tanh(self.fc1(x))\n",
    "        x = self.fc2(x)\n",
    "        return x"
   ]
  },
  {
   "cell_type": "code",
   "execution_count": 8,
   "id": "302a05ad-cfc7-4660-a2db-36b89e6e784f",
   "metadata": {
    "tags": []
   },
   "outputs": [],
   "source": [
    "from tqdm import tqdm\n",
    "from torchmetrics.classification import MultilabelF1Score, MultilabelAccuracy\n",
    "\n",
    "def train_model(embeddings_source, model_type=\"linear\", train_size=0.9):\n",
    "    \n",
    "    # Load the training dataset\n",
    "    train_dataset = ProteinSequenceDataset(datatype=\"train\", embeddings_source = embeddings_source)\n",
    "    \n",
    "    # Split the training dataset into train and validation sets\n",
    "    train_set, val_set = torch.utils.data.random_split(train_dataset, lengths = [int(len(train_dataset)*train_size), len(train_dataset)-int(len(train_dataset)*train_size)])\n",
    "    \n",
    "    # Create dataloaders for training and validation\n",
    "    train_dataloader = torch.utils.data.DataLoader(train_set, batch_size=config.batch_size, shuffle=True)\n",
    "    val_dataloader = torch.utils.data.DataLoader(val_set, batch_size=config.batch_size, shuffle=True)\n",
    "\n",
    "    # Initialize the model based on the specified model_type\n",
    "    if model_type == \"linear\":\n",
    "        model = MultiLayerPerceptron(input_dim=embeds_dim[embeddings_source], num_classes=config.num_labels).to(config.device)\n",
    "    if model_type == \"convolutional\":\n",
    "        model = CNN1D(input_dim=embeds_dim[embeddings_source], num_classes=config.num_labels).to(config.device)\n",
    "\n",
    "    # Set up optimizer, scheduler, loss function, and metrics\n",
    "    optimizer = torch.optim.Adam(model.parameters(), lr = config.lr)\n",
    "    scheduler = torch.optim.lr_scheduler.ReduceLROnPlateau(optimizer, factor=0.1, patience=1)\n",
    "    CrossEntropy = torch.nn.CrossEntropyLoss()\n",
    "    f1_score = MultilabelF1Score(num_labels=config.num_labels).to(config.device)\n",
    "    n_epochs = config.n_epochs\n",
    "\n",
    "    # Initialize lists to store loss and score history\n",
    "    train_loss_history=[]\n",
    "    val_loss_history=[]\n",
    "    train_f1score_history=[]\n",
    "    val_f1score_history=[]\n",
    "    \n",
    "    print(\"BEGIN TRAINING...\")\n",
    "    # Loop through epochs\n",
    "    for epoch in range(n_epochs):\n",
    "        print(\"EPOCH \", epoch+1)\n",
    "        ## TRAIN PHASE :\n",
    "        losses = []\n",
    "        scores = []\n",
    "        # Iterate through batches in the training dataset\n",
    "        for embed, targets in tqdm(train_dataloader):\n",
    "            embed, targets = embed.to(config.device), targets.to(config.device)\n",
    "            optimizer.zero_grad()\n",
    "            preds = model(embed)\n",
    "            loss= CrossEntropy(preds, targets)\n",
    "            score=f1_score(preds, targets)\n",
    "            losses.append(loss.item()) \n",
    "            scores.append(score.item())\n",
    "            loss.backward()\n",
    "            optimizer.step()\n",
    "        avg_loss = np.mean(losses)\n",
    "        avg_score = np.mean(scores)\n",
    "        print(\"Running Average TRAIN Loss : \", avg_loss)\n",
    "        print(\"Running Average TRAIN F1-Score : \", avg_score)\n",
    "        train_loss_history.append(avg_loss)\n",
    "        train_f1score_history.append(avg_score)\n",
    "        \n",
    "        ## VALIDATION PHASE : \n",
    "        losses = []\n",
    "        scores = []\n",
    "        # Iterate through batches in the validation dataset\n",
    "        for embed, targets in val_dataloader:\n",
    "            embed, targets = embed.to(config.device), targets.to(config.device)\n",
    "            preds = model(embed)\n",
    "            loss= CrossEntropy(preds, targets)\n",
    "            score=f1_score(preds, targets)\n",
    "            losses.append(loss.item())\n",
    "            scores.append(score.item())\n",
    "        avg_loss = np.mean(losses)\n",
    "        avg_score = np.mean(scores)\n",
    "        print(\"Running Average VAL Loss : \", avg_loss)\n",
    "        print(\"Running Average VAL F1-Score : \", avg_score)\n",
    "        val_loss_history.append(avg_loss)\n",
    "        val_f1score_history.append(avg_score)\n",
    "        \n",
    "        # Adjust the learning rate using the scheduler based on validation loss\n",
    "        scheduler.step(avg_loss)\n",
    "        print(\"\\n\")\n",
    "        \n",
    "    print(\"TRAINING FINISHED\")\n",
    "    print(\"FINAL TRAINING SCORE : \", train_f1score_history[-1])\n",
    "    print(\"FINAL VALIDATION SCORE : \", val_f1score_history[-1])\n",
    "    \n",
    "    losses_history = {\"train\" : train_loss_history, \"val\" : val_loss_history}\n",
    "    scores_history = {\"train\" : train_f1score_history, \"val\" : val_f1score_history}\n",
    "    \n",
    "    return model, losses_history, scores_history"
   ]
  },
  {
   "cell_type": "code",
   "execution_count": 9,
   "id": "d3af25c6-6f2c-4ea0-b2bc-79d5f8ea729a",
   "metadata": {
    "tags": []
   },
   "outputs": [
    {
     "name": "stdout",
     "output_type": "stream",
     "text": [
      "BEGIN TRAINING...\n",
      "EPOCH  1\n"
     ]
    },
    {
     "name": "stderr",
     "output_type": "stream",
     "text": [
      "100%|██████████████████████████████████████████████████████████████████████████████| 1001/1001 [01:54<00:00,  8.71it/s]\n"
     ]
    },
    {
     "name": "stdout",
     "output_type": "stream",
     "text": [
      "Running Average TRAIN Loss :  141.58360551191973\n",
      "Running Average TRAIN F1-Score :  0.0565419194291343\n",
      "Running Average VAL Loss :  142.55853864124842\n",
      "Running Average VAL F1-Score :  0.055686246237850616\n",
      "\n",
      "\n",
      "EPOCH  2\n"
     ]
    },
    {
     "name": "stderr",
     "output_type": "stream",
     "text": [
      "100%|██████████████████████████████████████████████████████████████████████████████| 1001/1001 [02:02<00:00,  8.19it/s]\n"
     ]
    },
    {
     "name": "stdout",
     "output_type": "stream",
     "text": [
      "Running Average TRAIN Loss :  141.38187768957118\n",
      "Running Average TRAIN F1-Score :  0.05590799885553556\n",
      "Running Average VAL Loss :  142.1207778794425\n",
      "Running Average VAL F1-Score :  0.05603062298281917\n",
      "\n",
      "\n",
      "EPOCH  3\n"
     ]
    },
    {
     "name": "stderr",
     "output_type": "stream",
     "text": [
      "100%|██████████████████████████████████████████████████████████████████████████████| 1001/1001 [01:54<00:00,  8.73it/s]\n"
     ]
    },
    {
     "name": "stdout",
     "output_type": "stream",
     "text": [
      "Running Average TRAIN Loss :  141.35389107352609\n",
      "Running Average TRAIN F1-Score :  0.05621520431338252\n",
      "Running Average VAL Loss :  142.13436208452498\n",
      "Running Average VAL F1-Score :  0.05612267151341906\n",
      "\n",
      "\n",
      "EPOCH  4\n"
     ]
    },
    {
     "name": "stderr",
     "output_type": "stream",
     "text": [
      "100%|██████████████████████████████████████████████████████████████████████████████| 1001/1001 [01:55<00:00,  8.67it/s]\n"
     ]
    },
    {
     "name": "stdout",
     "output_type": "stream",
     "text": [
      "Running Average TRAIN Loss :  141.31480967152964\n",
      "Running Average TRAIN F1-Score :  0.05663389831662297\n",
      "Running Average VAL Loss :  142.18693392617362\n",
      "Running Average VAL F1-Score :  0.05698908393138221\n",
      "\n",
      "\n",
      "EPOCH  5\n"
     ]
    },
    {
     "name": "stderr",
     "output_type": "stream",
     "text": [
      "100%|██████████████████████████████████████████████████████████████████████████████| 1001/1001 [01:56<00:00,  8.62it/s]\n"
     ]
    },
    {
     "name": "stdout",
     "output_type": "stream",
     "text": [
      "Running Average TRAIN Loss :  141.19428138085058\n",
      "Running Average TRAIN F1-Score :  0.057071269879659096\n",
      "Running Average VAL Loss :  142.39871610913957\n",
      "Running Average VAL F1-Score :  0.057275642308273485\n",
      "\n",
      "\n",
      "TRAINING FINISHED\n",
      "FINAL TRAINING SCORE :  0.057071269879659096\n",
      "FINAL VALIDATION SCORE :  0.057275642308273485\n"
     ]
    }
   ],
   "source": [
    "ems2_model, ems2_losses, ems2_scores = train_model(embeddings_source=\"EMS2\",model_type=\"convolutional\")"
   ]
  },
  {
   "cell_type": "code",
   "execution_count": 10,
   "id": "a7c5da5e-3d32-4b1c-bf8d-85d902f5b850",
   "metadata": {
    "tags": []
   },
   "outputs": [
    {
     "data": {
      "image/png": "[encoded data removed]",
      "text/plain": [
       "<Figure size 1000x400 with 1 Axes>"
      ]
     },
     "metadata": {},
     "output_type": "display_data"
    },
    {
     "data": {
      "image/png": "[encoded data removed]",
      "text/plain": [
       "<Figure size 1000x400 with 1 Axes>"
      ]
     },
     "metadata": {},
     "output_type": "display_data"
    }
   ],
   "source": [
    "plt.figure(figsize = (10, 4))\n",
    "#plt.plot(ems2_losses[\"val\"], label = \"EMS2\")\n",
    "#plt.plot(t5_losses[\"val\"], label = \"T5\")\n",
    "plt.plot(ems2_losses[\"val\"], label = \"EMS2\") \n",
    "plt.title(\"Validation Losses for # Vector Embeddings\")\n",
    "plt.xlabel(\"Epochs\")\n",
    "plt.ylabel(\"Average Loss\")\n",
    "plt.legend()\n",
    "plt.show()\n",
    "\n",
    "plt.figure(figsize = (10, 4))\n",
    "#plt.plot(ems2_scores[\"val\"], label = \"EMS2\")\n",
    "#plt.plot(t5_scores[\"val\"], label = \"T5\")\n",
    "plt.plot(ems2_scores[\"val\"], label = \"EMS2\")\n",
    "plt.title(\"Validation F1-Scores for # Vector Embeddings\")\n",
    "plt.xlabel(\"Epochs\")\n",
    "plt.ylabel(\"Average F1-Score\")\n",
    "plt.legend()\n",
    "plt.show()"
   ]
  },
  {
   "cell_type": "code",
   "execution_count": 11,
   "id": "964e9bdf-2a78-4e91-8413-3105a9a1350e",
   "metadata": {
    "tags": []
   },
   "outputs": [],
   "source": [
    "def predict(embeddings_source):\n",
    "    \n",
    "    # Load the test dataset\n",
    "    test_dataset = ProteinSequenceDataset(datatype=\"test\", embeddings_source = embeddings_source)\n",
    "    test_dataloader = torch.utils.data.DataLoader(test_dataset, batch_size=1, shuffle=False)\n",
    "    \n",
    "    # Determine which trained model to use based on embeddings_source\n",
    "    if embeddings_source == \"T5\":\n",
    "        model = t5_model\n",
    "    if embeddings_source == \"ProtBERT\":\n",
    "        model = protbert_model\n",
    "    if embeddings_source == \"EMS2\":\n",
    "        model = ems2_model\n",
    "    \n",
    "    # Set the model to evaluation mode\n",
    "    model.eval()\n",
    "    \n",
    "    # Load and preprocess labels data\n",
    "    labels = pd.read_csv(config.train_labels_path, sep = \"\\t\")\n",
    "    top_terms = labels.groupby(\"term\")[\"EntryID\"].count().sort_values(ascending=False)\n",
    "    labels_names = top_terms[:config.num_labels].index.values\n",
    "    print(\"GENERATE PREDICTION FOR TEST SET...\")\n",
    "\n",
    "    # Initialize arrays to store prediction results\n",
    "    ids_ = np.empty(shape=(len(test_dataloader)*config.num_labels,), dtype=object)\n",
    "    go_terms_ = np.empty(shape=(len(test_dataloader)*config.num_labels,), dtype=object)\n",
    "    confs_ = np.empty(shape=(len(test_dataloader)*config.num_labels,), dtype=np.float32)\n",
    "\n",
    "    # Iterate through test data and make predictions\n",
    "    for i, (embed, id) in tqdm(enumerate(test_dataloader)):\n",
    "        embed = embed.to(config.device)\n",
    "        # Get sigmoid probabilities from the model's output\n",
    "        confs_[i*config.num_labels:(i+1)*config.num_labels] = torch.nn.functional.sigmoid(model(embed)).squeeze().detach().cpu().numpy()\n",
    "        ids_[i*config.num_labels:(i+1)*config.num_labels] = id[0]\n",
    "        go_terms_[i*config.num_labels:(i+1)*config.num_labels] = labels_names\n",
    "\n",
    "    # Create a DataFrame to store the prediction results\n",
    "    submission_df = pd.DataFrame(data={\"Id\" : ids_, \"GO term\" : go_terms_, \"Confidence\" : confs_})\n",
    "    print(\"PREDICTIONS DONE\")\n",
    "    \n",
    "    return submission_df"
   ]
  },
  {
   "cell_type": "code",
   "execution_count": 12,
   "id": "036de741-3e04-4564-b397-d6de21070214",
   "metadata": {
    "tags": []
   },
   "outputs": [
    {
     "name": "stdout",
     "output_type": "stream",
     "text": [
      "GENERATE PREDICTION FOR TEST SET...\n"
     ]
    },
    {
     "name": "stderr",
     "output_type": "stream",
     "text": [
      "141864it [04:07, 572.41it/s]\n"
     ]
    },
    {
     "name": "stdout",
     "output_type": "stream",
     "text": [
      "PREDICTIONS DONE\n"
     ]
    }
   ],
   "source": [
    "submission_df = predict(\"EMS2\")"
   ]
  },
  {
   "cell_type": "code",
   "execution_count": 13,
   "id": "83fa6165-eae2-4774-903a-4663c23ae772",
   "metadata": {
    "tags": []
   },
   "outputs": [
    {
     "data": {
      "text/plain": [
       "70932000"
      ]
     },
     "execution_count": 13,
     "metadata": {},
     "output_type": "execute_result"
    }
   ],
   "source": [
    "len(submission_df)"
   ]
  },
  {
   "cell_type": "markdown",
   "id": "756ba24d-9023-4cd8-b4ef-157ff611fd8a",
   "metadata": {},
   "source": [
    "## Submission"
   ]
  },
  {
   "cell_type": "code",
   "execution_count": 14,
   "id": "81302903-815d-46cb-a522-eb843bdbab71",
   "metadata": {
    "tags": []
   },
   "outputs": [],
   "source": [
    "#this submission was obtained by training models on BlastP, Sprof, QuickGo and DeeepGoZero offline\n",
    "submission2 = pd.read_csv('blast-quick-sprof-zero-pred/submission.tsv',\n",
    "    sep='\\t', header=None, names=['Id2', 'GO term2', 'Confidence2']) "
   ]
  },
  {
   "cell_type": "code",
   "execution_count": 15,
   "id": "0292f184-c307-4a1e-82d8-40045a05d5f4",
   "metadata": {
    "tags": []
   },
   "outputs": [
    {
     "data": {
      "text/html": [
       "<div>\n",
       "<style scoped>\n",
       "    .dataframe tbody tr th:only-of-type {\n",
       "        vertical-align: middle;\n",
       "    }\n",
       "\n",
       "    .dataframe tbody tr th {\n",
       "        vertical-align: top;\n",
       "    }\n",
       "\n",
       "    .dataframe thead th {\n",
       "        text-align: right;\n",
       "    }\n",
       "</style>\n",
       "<table border=\"1\" class=\"dataframe\">\n",
       "  <thead>\n",
       "    <tr style=\"text-align: right;\">\n",
       "      <th></th>\n",
       "      <th>Id2</th>\n",
       "      <th>GO term2</th>\n",
       "      <th>Confidence2</th>\n",
       "    </tr>\n",
       "  </thead>\n",
       "  <tbody>\n",
       "    <tr>\n",
       "      <th>0</th>\n",
       "      <td>Q3UPK1</td>\n",
       "      <td>GO:0005634</td>\n",
       "      <td>1.000</td>\n",
       "    </tr>\n",
       "    <tr>\n",
       "      <th>1</th>\n",
       "      <td>Q3UPK1</td>\n",
       "      <td>GO:0042393</td>\n",
       "      <td>1.000</td>\n",
       "    </tr>\n",
       "    <tr>\n",
       "      <th>2</th>\n",
       "      <td>Q3UPK1</td>\n",
       "      <td>GO:0031491</td>\n",
       "      <td>1.000</td>\n",
       "    </tr>\n",
       "    <tr>\n",
       "      <th>3</th>\n",
       "      <td>Q3UPK1</td>\n",
       "      <td>GO:0046872</td>\n",
       "      <td>1.000</td>\n",
       "    </tr>\n",
       "    <tr>\n",
       "      <th>4</th>\n",
       "      <td>Q3UPK1</td>\n",
       "      <td>GO:0006357</td>\n",
       "      <td>1.000</td>\n",
       "    </tr>\n",
       "    <tr>\n",
       "      <th>...</th>\n",
       "      <td>...</td>\n",
       "      <td>...</td>\n",
       "      <td>...</td>\n",
       "    </tr>\n",
       "    <tr>\n",
       "      <th>11977926</th>\n",
       "      <td>Q93GP6</td>\n",
       "      <td>GO:0050789</td>\n",
       "      <td>0.162</td>\n",
       "    </tr>\n",
       "    <tr>\n",
       "      <th>11977927</th>\n",
       "      <td>Q93GP6</td>\n",
       "      <td>GO:0006950</td>\n",
       "      <td>0.142</td>\n",
       "    </tr>\n",
       "    <tr>\n",
       "      <th>11977928</th>\n",
       "      <td>Q93GP6</td>\n",
       "      <td>GO:0006807</td>\n",
       "      <td>0.141</td>\n",
       "    </tr>\n",
       "    <tr>\n",
       "      <th>11977929</th>\n",
       "      <td>Q93GP6</td>\n",
       "      <td>GO:0044238</td>\n",
       "      <td>0.140</td>\n",
       "    </tr>\n",
       "    <tr>\n",
       "      <th>11977930</th>\n",
       "      <td>Q93GP6</td>\n",
       "      <td>GO:0009605</td>\n",
       "      <td>0.116</td>\n",
       "    </tr>\n",
       "  </tbody>\n",
       "</table>\n",
       "<p>11977931 rows × 3 columns</p>\n",
       "</div>"
      ],
      "text/plain": [
       "             Id2    GO term2  Confidence2\n",
       "0         Q3UPK1  GO:0005634        1.000\n",
       "1         Q3UPK1  GO:0042393        1.000\n",
       "2         Q3UPK1  GO:0031491        1.000\n",
       "3         Q3UPK1  GO:0046872        1.000\n",
       "4         Q3UPK1  GO:0006357        1.000\n",
       "...          ...         ...          ...\n",
       "11977926  Q93GP6  GO:0050789        0.162\n",
       "11977927  Q93GP6  GO:0006950        0.142\n",
       "11977928  Q93GP6  GO:0006807        0.141\n",
       "11977929  Q93GP6  GO:0044238        0.140\n",
       "11977930  Q93GP6  GO:0009605        0.116\n",
       "\n",
       "[11977931 rows x 3 columns]"
      ]
     },
     "execution_count": 15,
     "metadata": {},
     "output_type": "execute_result"
    }
   ],
   "source": [
    "submission2"
   ]
  },
  {
   "cell_type": "code",
   "execution_count": 16,
   "id": "822e83d1-c326-4b9d-8f23-24900e76f57d",
   "metadata": {
    "tags": []
   },
   "outputs": [],
   "source": [
    "subs = submission2.merge(submission_df, left_on=['Id2', 'GO term2'], right_on=['Id', 'GO term'], how='outer')"
   ]
  },
  {
   "cell_type": "code",
   "execution_count": 17,
   "id": "087cd5a9-ee78-429b-b695-9e08ba674e8c",
   "metadata": {
    "tags": []
   },
   "outputs": [
    {
     "data": {
      "text/html": [
       "<div>\n",
       "<style scoped>\n",
       "    .dataframe tbody tr th:only-of-type {\n",
       "        vertical-align: middle;\n",
       "    }\n",
       "\n",
       "    .dataframe tbody tr th {\n",
       "        vertical-align: top;\n",
       "    }\n",
       "\n",
       "    .dataframe thead th {\n",
       "        text-align: right;\n",
       "    }\n",
       "</style>\n",
       "<table border=\"1\" class=\"dataframe\">\n",
       "  <thead>\n",
       "    <tr style=\"text-align: right;\">\n",
       "      <th></th>\n",
       "      <th>Id2</th>\n",
       "      <th>GO term2</th>\n",
       "      <th>Confidence2</th>\n",
       "      <th>Id</th>\n",
       "      <th>GO term</th>\n",
       "      <th>Confidence</th>\n",
       "    </tr>\n",
       "  </thead>\n",
       "  <tbody>\n",
       "    <tr>\n",
       "      <th>0</th>\n",
       "      <td>Q3UPK1</td>\n",
       "      <td>GO:0005634</td>\n",
       "      <td>1.0</td>\n",
       "      <td>NaN</td>\n",
       "      <td>NaN</td>\n",
       "      <td>NaN</td>\n",
       "    </tr>\n",
       "    <tr>\n",
       "      <th>1</th>\n",
       "      <td>Q3UPK1</td>\n",
       "      <td>GO:0042393</td>\n",
       "      <td>1.0</td>\n",
       "      <td>NaN</td>\n",
       "      <td>NaN</td>\n",
       "      <td>NaN</td>\n",
       "    </tr>\n",
       "    <tr>\n",
       "      <th>2</th>\n",
       "      <td>Q3UPK1</td>\n",
       "      <td>GO:0031491</td>\n",
       "      <td>1.0</td>\n",
       "      <td>NaN</td>\n",
       "      <td>NaN</td>\n",
       "      <td>NaN</td>\n",
       "    </tr>\n",
       "    <tr>\n",
       "      <th>3</th>\n",
       "      <td>Q3UPK1</td>\n",
       "      <td>GO:0046872</td>\n",
       "      <td>1.0</td>\n",
       "      <td>NaN</td>\n",
       "      <td>NaN</td>\n",
       "      <td>NaN</td>\n",
       "    </tr>\n",
       "    <tr>\n",
       "      <th>4</th>\n",
       "      <td>Q3UPK1</td>\n",
       "      <td>GO:0006357</td>\n",
       "      <td>1.0</td>\n",
       "      <td>NaN</td>\n",
       "      <td>NaN</td>\n",
       "      <td>NaN</td>\n",
       "    </tr>\n",
       "    <tr>\n",
       "      <th>...</th>\n",
       "      <td>...</td>\n",
       "      <td>...</td>\n",
       "      <td>...</td>\n",
       "      <td>...</td>\n",
       "      <td>...</td>\n",
       "      <td>...</td>\n",
       "    </tr>\n",
       "    <tr>\n",
       "      <th>75255902</th>\n",
       "      <td>NaN</td>\n",
       "      <td>NaN</td>\n",
       "      <td>NaN</td>\n",
       "      <td>P0AG74</td>\n",
       "      <td>GO:0051129</td>\n",
       "      <td>0.194279</td>\n",
       "    </tr>\n",
       "    <tr>\n",
       "      <th>75255903</th>\n",
       "      <td>NaN</td>\n",
       "      <td>NaN</td>\n",
       "      <td>NaN</td>\n",
       "      <td>P0AG74</td>\n",
       "      <td>GO:0044403</td>\n",
       "      <td>0.195396</td>\n",
       "    </tr>\n",
       "    <tr>\n",
       "      <th>75255904</th>\n",
       "      <td>NaN</td>\n",
       "      <td>NaN</td>\n",
       "      <td>NaN</td>\n",
       "      <td>P0AG74</td>\n",
       "      <td>GO:0016829</td>\n",
       "      <td>0.189769</td>\n",
       "    </tr>\n",
       "    <tr>\n",
       "      <th>75255905</th>\n",
       "      <td>NaN</td>\n",
       "      <td>NaN</td>\n",
       "      <td>NaN</td>\n",
       "      <td>P0AG74</td>\n",
       "      <td>GO:0090596</td>\n",
       "      <td>0.200214</td>\n",
       "    </tr>\n",
       "    <tr>\n",
       "      <th>75255906</th>\n",
       "      <td>NaN</td>\n",
       "      <td>NaN</td>\n",
       "      <td>NaN</td>\n",
       "      <td>P0AG74</td>\n",
       "      <td>GO:0051640</td>\n",
       "      <td>0.197866</td>\n",
       "    </tr>\n",
       "  </tbody>\n",
       "</table>\n",
       "<p>75255907 rows × 6 columns</p>\n",
       "</div>"
      ],
      "text/plain": [
       "             Id2    GO term2  Confidence2      Id     GO term  Confidence\n",
       "0         Q3UPK1  GO:0005634          1.0     NaN         NaN         NaN\n",
       "1         Q3UPK1  GO:0042393          1.0     NaN         NaN         NaN\n",
       "2         Q3UPK1  GO:0031491          1.0     NaN         NaN         NaN\n",
       "3         Q3UPK1  GO:0046872          1.0     NaN         NaN         NaN\n",
       "4         Q3UPK1  GO:0006357          1.0     NaN         NaN         NaN\n",
       "...          ...         ...          ...     ...         ...         ...\n",
       "75255902     NaN         NaN          NaN  P0AG74  GO:0051129    0.194279\n",
       "75255903     NaN         NaN          NaN  P0AG74  GO:0044403    0.195396\n",
       "75255904     NaN         NaN          NaN  P0AG74  GO:0016829    0.189769\n",
       "75255905     NaN         NaN          NaN  P0AG74  GO:0090596    0.200214\n",
       "75255906     NaN         NaN          NaN  P0AG74  GO:0051640    0.197866\n",
       "\n",
       "[75255907 rows x 6 columns]"
      ]
     },
     "execution_count": 17,
     "metadata": {},
     "output_type": "execute_result"
    }
   ],
   "source": [
    "subs"
   ]
  },
  {
   "cell_type": "code",
   "execution_count": 18,
   "id": "61f9b862-974a-4222-85cd-65deb64ac650",
   "metadata": {
    "tags": []
   },
   "outputs": [],
   "source": [
    "subs.drop(['Id', 'GO term'], axis=1, inplace=True)\n",
    "subs['confidence_combined'] = subs.apply(lambda row: row['Confidence2'] if not np.isnan(row['Confidence2']) else row['Confidence'], axis=1)"
   ]
  },
  {
   "cell_type": "code",
   "execution_count": 19,
   "id": "025c32e4-e3cb-48ca-a4af-40d597e8c3c0",
   "metadata": {
    "tags": []
   },
   "outputs": [],
   "source": [
    "#submission_df.to_csv('submission1.tsv', sep='\\t', header=False, index=False)"
   ]
  },
  {
   "cell_type": "code",
   "execution_count": 20,
   "id": "e16a4b52-9ffe-445e-a51c-87a79ce113a6",
   "metadata": {
    "tags": []
   },
   "outputs": [],
   "source": [
    "subs[['Id2', 'GO term2', 'confidence_combined']].to_csv('submission.tsv', sep='\\t', header=False, index=False)"
   ]
  },
  {
   "cell_type": "code",
   "execution_count": null,
   "id": "6652176d-9cbb-486d-9ed6-961ba5ba3ed1",
   "metadata": {},
   "outputs": [],
   "source": []
  }
 ],
 "metadata": {
  "kernelspec": {
   "display_name": "Python 3 (ipykernel)",
   "language": "python",
   "name": "python3"
  },
  "language_info": {
   "codemirror_mode": {
    "name": "ipython",
    "version": 3
   },
   "file_extension": ".py",
   "mimetype": "text/x-python",
   "name": "python",
   "nbconvert_exporter": "python",
   "pygments_lexer": "ipython3",
   "version": "3.10.11"
  }
 },
 "nbformat": 4,
 "nbformat_minor": 5
}
